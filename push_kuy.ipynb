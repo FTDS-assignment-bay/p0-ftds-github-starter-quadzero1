{
 "cells": [
  {
   "cell_type": "markdown",
   "id": "436616d2",
   "metadata": {},
   "source": []
  },
  {
   "cell_type": "code",
   "execution_count": 4,
   "id": "323b9f27",
   "metadata": {},
   "outputs": [
    {
     "data": {
      "text/plain": [
       "4"
      ]
     },
     "execution_count": 4,
     "metadata": {},
     "output_type": "execute_result"
    }
   ],
   "source": [
    "2*2"
   ]
  },
  {
   "cell_type": "markdown",
   "id": "ed779b7d",
   "metadata": {},
   "source": [
    "### cara agar enter baris baru, biar ga lanjut di 1 baris\n",
    "Nama: Alwi  \n",
    "Batch: RMT 047  \n",
    "  \n",
    "Problem Statement: Banyak student belym tau cara ini.<b/r>\n",
    "Objektif: Belajar cara menulis markdown dan push yang baik dan benar."
   ]
  },
  {
   "cell_type": "markdown",
   "id": "9c65c854",
   "metadata": {},
   "source": [
    "---"
   ]
  },
  {
   "cell_type": "markdown",
   "id": "b22ed092",
   "metadata": {},
   "source": [
    "1. `git clone <link ssh>` -> untuk donwnload repo tugas\n",
    "2. `cd <ke repo lokal>` -> untuk pindah folder ke repo lokal\n",
    "3. Buat file assignment atau pindahkan file assignment ke dalam repo lokal\n",
    "4. `git status` - > untuk cek file baru di repo lokal (warna merah)\n",
    "5. `git add .` -> untuk memasukan file baru ke stage mode\n",
    "6. `git status` -> untuk cek file baru sudah di stage mode (warna hijau)\n",
    "7. `git commit -m <message nya apa?>` -> untuk memberi keterangan push\n",
    "8. `git push` -> upload ke repo gitclassroom\n",
    "9. cek lagi file di repo git, sudah sesuai atau belum?"
   ]
  },
  {
   "cell_type": "markdown",
   "id": "4d096e19",
   "metadata": {},
   "source": [
    "#Push Yuk"
   ]
  },
  {
   "cell_type": "markdown",
   "id": "fc894baf",
   "metadata": {},
   "source": [
    "**ini bold**\n",
    "*ini italic*\n",
    "***bold italic***\n",
    "` petik untuk syntax (rumus) dalam markdown/text\n",
    "' single quote/ single string/ kutip\n",
    "\" double quote/ double string/ kutip dua\n"
   ]
  },
  {
   "cell_type": "markdown",
   "id": "322bfbf0",
   "metadata": {},
   "source": [
    "rumus bisa pakai simbol dollar\n",
    "y = 2x^2 + 5\n",
    "$ y = 2x^2 + 5 $\n",
    "supaya di tengah gunakan double dollar\n",
    "$$ y = 2x^2+ 5 $$\n"
   ]
  },
  {
   "cell_type": "markdown",
   "id": "563be77d",
   "metadata": {},
   "source": [
    "``` sql\n",
    "from kota\n",
    "search 'jkt'\n",
    "return \n",
    "```\n"
   ]
  },
  {
   "cell_type": "markdown",
   "id": "057d69ff",
   "metadata": {},
   "source": [
    "---"
   ]
  },
  {
   "cell_type": "markdown",
   "id": "bef32bf8",
   "metadata": {},
   "source": [
    "$$end$$"
   ]
  }
 ],
 "metadata": {
  "kernelspec": {
   "display_name": "base",
   "language": "python",
   "name": "python3"
  },
  "language_info": {
   "codemirror_mode": {
    "name": "ipython",
    "version": 3
   },
   "file_extension": ".py",
   "mimetype": "text/x-python",
   "name": "python",
   "nbconvert_exporter": "python",
   "pygments_lexer": "ipython3",
   "version": "3.13.5"
  }
 },
 "nbformat": 4,
 "nbformat_minor": 5
}
